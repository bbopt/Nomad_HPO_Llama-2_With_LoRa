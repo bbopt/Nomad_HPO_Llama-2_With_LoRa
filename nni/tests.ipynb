{
 "cells": [
  {
   "cell_type": "code",
   "execution_count": 2,
   "metadata": {},
   "outputs": [],
   "source": [
    "search_space = {\n",
    "    'features': {'_type': 'choice', '_value': [128, 256, 512, 1024]},\n",
    "    'lr': {'_type': 'loguniform', '_value': [0.0001, 0.1]},\n",
    "    'momentum': {'_type': 'uniform', '_value': [0, 1]},\n",
    "}"
   ]
  },
  {
   "cell_type": "code",
   "execution_count": 3,
   "metadata": {},
   "outputs": [
    {
     "ename": "ModuleNotFoundError",
     "evalue": "No module named 'nni'",
     "output_type": "error",
     "traceback": [
      "\u001b[0;31m---------------------------------------------------------------------------\u001b[0m",
      "\u001b[0;31mModuleNotFoundError\u001b[0m                       Traceback (most recent call last)",
      "\u001b[1;32m/home/benasach/dev/nni/tests.ipynb Cellule 2\u001b[0m line \u001b[0;36m1\n\u001b[0;32m----> <a href='vscode-notebook-cell://ssh-remote%2Batlas.gerad.lan/home/benasach/dev/nni/tests.ipynb#W1sdnNjb2RlLXJlbW90ZQ%3D%3D?line=0'>1</a>\u001b[0m \u001b[39mfrom\u001b[39;00m \u001b[39mnni\u001b[39;00m\u001b[39m.\u001b[39;00m\u001b[39mexperiment\u001b[39;00m \u001b[39mimport\u001b[39;00m Experiment\n\u001b[1;32m      <a href='vscode-notebook-cell://ssh-remote%2Batlas.gerad.lan/home/benasach/dev/nni/tests.ipynb#W1sdnNjb2RlLXJlbW90ZQ%3D%3D?line=1'>2</a>\u001b[0m experiment \u001b[39m=\u001b[39m Experiment(\u001b[39m\"\u001b[39m\u001b[39mlocal\u001b[39m\u001b[39m\"\u001b[39m)\n",
      "\u001b[0;31mModuleNotFoundError\u001b[0m: No module named 'nni'"
     ]
    }
   ],
   "source": [
    "from nni.experiment import Experiment\n",
    "experiment = Experiment(\"local\")"
   ]
  },
  {
   "cell_type": "code",
   "execution_count": 11,
   "metadata": {},
   "outputs": [],
   "source": [
    "experiment.config.trial_command = \"python3 model.py\"\n",
    "experiment.config.trial_code_directory = \"/home/benasach/dev/nni\""
   ]
  },
  {
   "cell_type": "code",
   "execution_count": 12,
   "metadata": {},
   "outputs": [],
   "source": [
    "experiment.config.search_space = search_space"
   ]
  },
  {
   "cell_type": "code",
   "execution_count": 13,
   "metadata": {},
   "outputs": [],
   "source": [
    "experiment.config.tuner.name = \"TPE\"\n",
    "experiment.config.tuner.class_args[\"optimize_mode\"] = \"maximize\""
   ]
  },
  {
   "cell_type": "code",
   "execution_count": 14,
   "metadata": {},
   "outputs": [],
   "source": [
    "experiment.config.max_trial_number = 50\n",
    "experiment.config.trial_concurrency = 2"
   ]
  },
  {
   "cell_type": "code",
   "execution_count": 17,
   "metadata": {},
   "outputs": [
    {
     "name": "stdout",
     "output_type": "stream",
     "text": [
      "[2023-10-16 13:38:00] \u001b[32mCreating experiment, Experiment ID: \u001b[36mikabmgrc\u001b[0m\n",
      "[2023-10-16 13:38:00] \u001b[32mStarting web server...\u001b[0m\n",
      "[2023-10-16 13:38:01] \u001b[33mWARNING: Timeout, retry...\u001b[0m\n",
      "[2023-10-16 13:38:02] \u001b[32mSetting up...\u001b[0m\n",
      "[2023-10-16 13:38:02] \u001b[32mWeb portal URLs: \u001b[36mhttp://127.0.0.1:8080 http://10.100.12.112:8080\u001b[0m\n"
     ]
    },
    {
     "data": {
      "text/plain": [
       "True"
      ]
     },
     "execution_count": 17,
     "metadata": {},
     "output_type": "execute_result"
    }
   ],
   "source": [
    "experiment.run(8080)"
   ]
  }
 ],
 "metadata": {
  "kernelspec": {
   "display_name": ".venv",
   "language": "python",
   "name": "python3"
  },
  "language_info": {
   "codemirror_mode": {
    "name": "ipython",
    "version": 3
   },
   "file_extension": ".py",
   "mimetype": "text/x-python",
   "name": "python",
   "nbconvert_exporter": "python",
   "pygments_lexer": "ipython3",
   "version": "3.9.16"
  }
 },
 "nbformat": 4,
 "nbformat_minor": 2
}
