{
 "cells": [
  {
   "cell_type": "code",
   "execution_count": 53,
   "metadata": {},
   "outputs": [],
   "source": [
    "from datasets import load_dataset\n",
    "import pandas as pd\n",
    "dolly = load_dataset(\"databricks/databricks-dolly-15k\")[\"train\"]\n",
    "dolly = pd.DataFrame(dolly)\n",
    "alpaca = pd.read_json(\"../stanford_alpaca/alpaca_data.json\")\n"
   ]
  },
  {
   "cell_type": "code",
   "execution_count": 54,
   "metadata": {},
   "outputs": [],
   "source": [
    "dolly.drop(columns=[\"category\"], inplace=True)\n",
    "alpaca.columns = [\"instruction\", \"context\", \"response\"]"
   ]
  },
  {
   "cell_type": "code",
   "execution_count": 55,
   "metadata": {},
   "outputs": [
    {
     "data": {
      "text/plain": [
       "67013"
      ]
     },
     "execution_count": 55,
     "metadata": {},
     "output_type": "execute_result"
    }
   ],
   "source": [
    "proportions = {\"alpaca\": 0.7, \"dolly\": 0.3, \"train\": 0.8, \"validation\": 0.2}\n",
    "total_size = len(alpaca) + len(dolly)\n",
    "total_size"
   ]
  },
  {
   "cell_type": "code",
   "execution_count": 58,
   "metadata": {},
   "outputs": [
    {
     "data": {
      "text/plain": [
       "True"
      ]
     },
     "execution_count": 58,
     "metadata": {},
     "output_type": "execute_result"
    }
   ],
   "source": [
    "train_size = int(proportions[\"train\"] * total_size)\n",
    "validation_size = int(proportions[\"validation\"] * total_size)\n",
    "train_size + validation_size == total_size - 1"
   ]
  },
  {
   "cell_type": "code",
   "execution_count": 59,
   "metadata": {},
   "outputs": [],
   "source": [
    "import numpy as np\n",
    "alpaca_train_indices = np.random.randint(0, len(alpaca), size=int(train_size * proportions[\"alpaca\"]))\n",
    "dolly_train_indices = np.random.randint(0, len(dolly), size=int(train_size * proportions[\"dolly\"]))                          \n",
    "extract_alpaca_train = alpaca.iloc[alpaca_train_indices]\n",
    "extract_dolly_train = dolly.iloc[dolly_train_indices]\n",
    "\n",
    "alpaca_remaining = alpaca.drop(index=alpaca_train_indices)\n",
    "dolly_remaining = dolly.drop(index=dolly_train_indices)"
   ]
  },
  {
   "cell_type": "code",
   "execution_count": 60,
   "metadata": {},
   "outputs": [
    {
     "data": {
      "text/html": [
       "<div>\n",
       "<style scoped>\n",
       "    .dataframe tbody tr th:only-of-type {\n",
       "        vertical-align: middle;\n",
       "    }\n",
       "\n",
       "    .dataframe tbody tr th {\n",
       "        vertical-align: top;\n",
       "    }\n",
       "\n",
       "    .dataframe thead th {\n",
       "        text-align: right;\n",
       "    }\n",
       "</style>\n",
       "<table border=\"1\" class=\"dataframe\">\n",
       "  <thead>\n",
       "    <tr style=\"text-align: right;\">\n",
       "      <th></th>\n",
       "      <th>instruction</th>\n",
       "      <th>context</th>\n",
       "      <th>response</th>\n",
       "    </tr>\n",
       "  </thead>\n",
       "  <tbody>\n",
       "    <tr>\n",
       "      <th>47914</th>\n",
       "      <td>Create a conversation about July 4th.</td>\n",
       "      <td></td>\n",
       "      <td>A: Hey, it's July 4th! What fun things did you...</td>\n",
       "    </tr>\n",
       "    <tr>\n",
       "      <th>36473</th>\n",
       "      <td>Use the input to describe a historic event.</td>\n",
       "      <td>The Battle of Verdun</td>\n",
       "      <td>The Battle of Verdun was one of the deadliest ...</td>\n",
       "    </tr>\n",
       "    <tr>\n",
       "      <th>46499</th>\n",
       "      <td>Describe a recurring dream you often have.</td>\n",
       "      <td></td>\n",
       "      <td>I often have a dream where I'm running through...</td>\n",
       "    </tr>\n",
       "    <tr>\n",
       "      <th>46486</th>\n",
       "      <td>Come up with a mnemonic for remembering the da...</td>\n",
       "      <td>No input</td>\n",
       "      <td>A mnemonic for remembering the days of the wee...</td>\n",
       "    </tr>\n",
       "    <tr>\n",
       "      <th>35792</th>\n",
       "      <td>Describe the significance of this event in his...</td>\n",
       "      <td>The discovery of penicillin</td>\n",
       "      <td>The discovery of penicillin is considered one ...</td>\n",
       "    </tr>\n",
       "    <tr>\n",
       "      <th>...</th>\n",
       "      <td>...</td>\n",
       "      <td>...</td>\n",
       "      <td>...</td>\n",
       "    </tr>\n",
       "    <tr>\n",
       "      <th>19213</th>\n",
       "      <td>Generate a headline for an article discussing ...</td>\n",
       "      <td></td>\n",
       "      <td>The Correlation Between Plant-Based Diet and R...</td>\n",
       "    </tr>\n",
       "    <tr>\n",
       "      <th>51104</th>\n",
       "      <td>Create an online advertisement that promotes a...</td>\n",
       "      <td>Seafood caught in a dolphin-friendly net</td>\n",
       "      <td>Seafood lovers, it's time to make a difference...</td>\n",
       "    </tr>\n",
       "    <tr>\n",
       "      <th>38148</th>\n",
       "      <td>Generate an antonym for 'tranquil'</td>\n",
       "      <td></td>\n",
       "      <td>Agitated.</td>\n",
       "    </tr>\n",
       "    <tr>\n",
       "      <th>45623</th>\n",
       "      <td>List 3 methods for solving a Rubik's cube</td>\n",
       "      <td></td>\n",
       "      <td>Three methods of solving a Rubik's cube are th...</td>\n",
       "    </tr>\n",
       "    <tr>\n",
       "      <th>17080</th>\n",
       "      <td>Generate a hashtag for promoting a webinar on ...</td>\n",
       "      <td></td>\n",
       "      <td>#DigitalMarketingWebinar - Unlock the Secrets ...</td>\n",
       "    </tr>\n",
       "  </tbody>\n",
       "</table>\n",
       "<p>37527 rows × 3 columns</p>\n",
       "</div>"
      ],
      "text/plain": [
       "                                             instruction  \\\n",
       "47914              Create a conversation about July 4th.   \n",
       "36473        Use the input to describe a historic event.   \n",
       "46499         Describe a recurring dream you often have.   \n",
       "46486  Come up with a mnemonic for remembering the da...   \n",
       "35792  Describe the significance of this event in his...   \n",
       "...                                                  ...   \n",
       "19213  Generate a headline for an article discussing ...   \n",
       "51104  Create an online advertisement that promotes a...   \n",
       "38148                 Generate an antonym for 'tranquil'   \n",
       "45623          List 3 methods for solving a Rubik's cube   \n",
       "17080  Generate a hashtag for promoting a webinar on ...   \n",
       "\n",
       "                                        context  \\\n",
       "47914                                             \n",
       "36473                      The Battle of Verdun   \n",
       "46499                                             \n",
       "46486                                  No input   \n",
       "35792               The discovery of penicillin   \n",
       "...                                         ...   \n",
       "19213                                             \n",
       "51104  Seafood caught in a dolphin-friendly net   \n",
       "38148                                             \n",
       "45623                                             \n",
       "17080                                             \n",
       "\n",
       "                                                response  \n",
       "47914  A: Hey, it's July 4th! What fun things did you...  \n",
       "36473  The Battle of Verdun was one of the deadliest ...  \n",
       "46499  I often have a dream where I'm running through...  \n",
       "46486  A mnemonic for remembering the days of the wee...  \n",
       "35792  The discovery of penicillin is considered one ...  \n",
       "...                                                  ...  \n",
       "19213  The Correlation Between Plant-Based Diet and R...  \n",
       "51104  Seafood lovers, it's time to make a difference...  \n",
       "38148                                          Agitated.  \n",
       "45623  Three methods of solving a Rubik's cube are th...  \n",
       "17080  #DigitalMarketingWebinar - Unlock the Secrets ...  \n",
       "\n",
       "[37527 rows x 3 columns]"
      ]
     },
     "execution_count": 60,
     "metadata": {},
     "output_type": "execute_result"
    }
   ],
   "source": [
    "extract_alpaca_train"
   ]
  },
  {
   "cell_type": "code",
   "execution_count": 61,
   "metadata": {},
   "outputs": [],
   "source": [
    "alpaca_validation_indices = np.random.randint(0, len(alpaca_remaining), size=int(validation_size * proportions[\"alpaca\"]))\n",
    "dolly_validation_indices = np.random.randint(0, len(dolly_remaining), size=int(validation_size * proportions[\"dolly\"]))\n",
    "\n",
    "try:\n",
    "    extract_alpaca_validation = alpaca.iloc[alpaca_validation_indices]\n",
    "    extract_dolly_validation = dolly.iloc[dolly_validation_indices]\n",
    "except IndexError as e:\n",
    "    print(\"Pas assez long\")"
   ]
  },
  {
   "cell_type": "code",
   "execution_count": 62,
   "metadata": {},
   "outputs": [],
   "source": [
    "extract_alpaca_validation.reset_index(inplace=True)\n",
    "extract_alpaca_train.reset_index(inplace=True)\n",
    "extract_dolly_train.reset_index(inplace=True)\n",
    "extract_dolly_validation.reset_index(inplace=True)"
   ]
  },
  {
   "cell_type": "code",
   "execution_count": 64,
   "metadata": {},
   "outputs": [
    {
     "name": "stderr",
     "output_type": "stream",
     "text": [
      "/tmp/ipykernel_795698/963235013.py:1: SettingWithCopyWarning: \n",
      "A value is trying to be set on a copy of a slice from a DataFrame\n",
      "\n",
      "See the caveats in the documentation: https://pandas.pydata.org/pandas-docs/stable/user_guide/indexing.html#returning-a-view-versus-a-copy\n",
      "  extract_alpaca_train.drop(columns=[\"index\"], inplace=True)\n",
      "/tmp/ipykernel_795698/963235013.py:2: SettingWithCopyWarning: \n",
      "A value is trying to be set on a copy of a slice from a DataFrame\n",
      "\n",
      "See the caveats in the documentation: https://pandas.pydata.org/pandas-docs/stable/user_guide/indexing.html#returning-a-view-versus-a-copy\n",
      "  extract_alpaca_validation.drop(columns=[\"index\"], inplace=True)\n",
      "/tmp/ipykernel_795698/963235013.py:3: SettingWithCopyWarning: \n",
      "A value is trying to be set on a copy of a slice from a DataFrame\n",
      "\n",
      "See the caveats in the documentation: https://pandas.pydata.org/pandas-docs/stable/user_guide/indexing.html#returning-a-view-versus-a-copy\n",
      "  extract_dolly_train.drop(columns=[\"index\"], inplace=True)\n",
      "/tmp/ipykernel_795698/963235013.py:4: SettingWithCopyWarning: \n",
      "A value is trying to be set on a copy of a slice from a DataFrame\n",
      "\n",
      "See the caveats in the documentation: https://pandas.pydata.org/pandas-docs/stable/user_guide/indexing.html#returning-a-view-versus-a-copy\n",
      "  extract_dolly_validation.drop(columns=[\"index\"], inplace=True)\n"
     ]
    }
   ],
   "source": [
    "extract_alpaca_train.drop(columns=[\"index\"], inplace=True)\n",
    "extract_alpaca_validation.drop(columns=[\"index\"], inplace=True)\n",
    "extract_dolly_train.drop(columns=[\"index\"], inplace=True)\n",
    "extract_dolly_validation.drop(columns=[\"index\"], inplace=True)"
   ]
  },
  {
   "cell_type": "code",
   "execution_count": 66,
   "metadata": {},
   "outputs": [
    {
     "data": {
      "text/html": [
       "<div>\n",
       "<style scoped>\n",
       "    .dataframe tbody tr th:only-of-type {\n",
       "        vertical-align: middle;\n",
       "    }\n",
       "\n",
       "    .dataframe tbody tr th {\n",
       "        vertical-align: top;\n",
       "    }\n",
       "\n",
       "    .dataframe thead th {\n",
       "        text-align: right;\n",
       "    }\n",
       "</style>\n",
       "<table border=\"1\" class=\"dataframe\">\n",
       "  <thead>\n",
       "    <tr style=\"text-align: right;\">\n",
       "      <th></th>\n",
       "      <th>instruction</th>\n",
       "      <th>context</th>\n",
       "      <th>response</th>\n",
       "    </tr>\n",
       "  </thead>\n",
       "  <tbody>\n",
       "    <tr>\n",
       "      <th>0</th>\n",
       "      <td>Create a conversation about July 4th.</td>\n",
       "      <td></td>\n",
       "      <td>A: Hey, it's July 4th! What fun things did you...</td>\n",
       "    </tr>\n",
       "    <tr>\n",
       "      <th>1</th>\n",
       "      <td>Use the input to describe a historic event.</td>\n",
       "      <td>The Battle of Verdun</td>\n",
       "      <td>The Battle of Verdun was one of the deadliest ...</td>\n",
       "    </tr>\n",
       "    <tr>\n",
       "      <th>2</th>\n",
       "      <td>Describe a recurring dream you often have.</td>\n",
       "      <td></td>\n",
       "      <td>I often have a dream where I'm running through...</td>\n",
       "    </tr>\n",
       "    <tr>\n",
       "      <th>3</th>\n",
       "      <td>Come up with a mnemonic for remembering the da...</td>\n",
       "      <td>No input</td>\n",
       "      <td>A mnemonic for remembering the days of the wee...</td>\n",
       "    </tr>\n",
       "    <tr>\n",
       "      <th>4</th>\n",
       "      <td>Describe the significance of this event in his...</td>\n",
       "      <td>The discovery of penicillin</td>\n",
       "      <td>The discovery of penicillin is considered one ...</td>\n",
       "    </tr>\n",
       "    <tr>\n",
       "      <th>...</th>\n",
       "      <td>...</td>\n",
       "      <td>...</td>\n",
       "      <td>...</td>\n",
       "    </tr>\n",
       "    <tr>\n",
       "      <th>37522</th>\n",
       "      <td>Generate a headline for an article discussing ...</td>\n",
       "      <td></td>\n",
       "      <td>The Correlation Between Plant-Based Diet and R...</td>\n",
       "    </tr>\n",
       "    <tr>\n",
       "      <th>37523</th>\n",
       "      <td>Create an online advertisement that promotes a...</td>\n",
       "      <td>Seafood caught in a dolphin-friendly net</td>\n",
       "      <td>Seafood lovers, it's time to make a difference...</td>\n",
       "    </tr>\n",
       "    <tr>\n",
       "      <th>37524</th>\n",
       "      <td>Generate an antonym for 'tranquil'</td>\n",
       "      <td></td>\n",
       "      <td>Agitated.</td>\n",
       "    </tr>\n",
       "    <tr>\n",
       "      <th>37525</th>\n",
       "      <td>List 3 methods for solving a Rubik's cube</td>\n",
       "      <td></td>\n",
       "      <td>Three methods of solving a Rubik's cube are th...</td>\n",
       "    </tr>\n",
       "    <tr>\n",
       "      <th>37526</th>\n",
       "      <td>Generate a hashtag for promoting a webinar on ...</td>\n",
       "      <td></td>\n",
       "      <td>#DigitalMarketingWebinar - Unlock the Secrets ...</td>\n",
       "    </tr>\n",
       "  </tbody>\n",
       "</table>\n",
       "<p>37527 rows × 3 columns</p>\n",
       "</div>"
      ],
      "text/plain": [
       "                                             instruction  \\\n",
       "0                  Create a conversation about July 4th.   \n",
       "1            Use the input to describe a historic event.   \n",
       "2             Describe a recurring dream you often have.   \n",
       "3      Come up with a mnemonic for remembering the da...   \n",
       "4      Describe the significance of this event in his...   \n",
       "...                                                  ...   \n",
       "37522  Generate a headline for an article discussing ...   \n",
       "37523  Create an online advertisement that promotes a...   \n",
       "37524                 Generate an antonym for 'tranquil'   \n",
       "37525          List 3 methods for solving a Rubik's cube   \n",
       "37526  Generate a hashtag for promoting a webinar on ...   \n",
       "\n",
       "                                        context  \\\n",
       "0                                                 \n",
       "1                          The Battle of Verdun   \n",
       "2                                                 \n",
       "3                                      No input   \n",
       "4                   The discovery of penicillin   \n",
       "...                                         ...   \n",
       "37522                                             \n",
       "37523  Seafood caught in a dolphin-friendly net   \n",
       "37524                                             \n",
       "37525                                             \n",
       "37526                                             \n",
       "\n",
       "                                                response  \n",
       "0      A: Hey, it's July 4th! What fun things did you...  \n",
       "1      The Battle of Verdun was one of the deadliest ...  \n",
       "2      I often have a dream where I'm running through...  \n",
       "3      A mnemonic for remembering the days of the wee...  \n",
       "4      The discovery of penicillin is considered one ...  \n",
       "...                                                  ...  \n",
       "37522  The Correlation Between Plant-Based Diet and R...  \n",
       "37523  Seafood lovers, it's time to make a difference...  \n",
       "37524                                          Agitated.  \n",
       "37525  Three methods of solving a Rubik's cube are th...  \n",
       "37526  #DigitalMarketingWebinar - Unlock the Secrets ...  \n",
       "\n",
       "[37527 rows x 3 columns]"
      ]
     },
     "execution_count": 66,
     "metadata": {},
     "output_type": "execute_result"
    }
   ],
   "source": [
    "extract_alpaca_train"
   ]
  },
  {
   "cell_type": "code",
   "execution_count": 70,
   "metadata": {},
   "outputs": [],
   "source": [
    "train = pd.concat([extract_dolly_train, extract_alpaca_train], axis=0)\n",
    "train = train.sample(frac=1, random_state=42)\n",
    "train.to_json(\"./train_mixed.json\", orient=\"records\")"
   ]
  },
  {
   "cell_type": "code",
   "execution_count": 71,
   "metadata": {},
   "outputs": [],
   "source": [
    "validation = pd.concat([extract_dolly_validation, extract_alpaca_validation], axis=0)\n",
    "validation = validation.sample(frac=1, random_state=42)\n",
    "validation.to_json(\"./validation_mixed.json\", orient=\"records\")"
   ]
  }
 ],
 "metadata": {
  "kernelspec": {
   "display_name": ".venv",
   "language": "python",
   "name": "python3"
  },
  "language_info": {
   "codemirror_mode": {
    "name": "ipython",
    "version": 3
   },
   "file_extension": ".py",
   "mimetype": "text/x-python",
   "name": "python",
   "nbconvert_exporter": "python",
   "pygments_lexer": "ipython3",
   "version": "3.9.16"
  },
  "orig_nbformat": 4
 },
 "nbformat": 4,
 "nbformat_minor": 2
}
