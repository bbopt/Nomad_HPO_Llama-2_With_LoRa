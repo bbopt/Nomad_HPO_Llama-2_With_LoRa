{
 "cells": [
  {
   "cell_type": "code",
   "execution_count": 2,
   "metadata": {},
   "outputs": [],
   "source": [
    "from datasets import load_dataset\n",
    "import pandas as pd\n",
    "dolly = load_dataset(\"databricks/databricks-dolly-15k\")\n",
    "dolly = pd.DataFrame(dolly)\n",
    "alpaca = pd.read_json(\"../stanford_alpaca/alpaca_data.json\")\n"
   ]
  },
  {
   "cell_type": "code",
   "execution_count": 6,
   "metadata": {},
   "outputs": [
    {
     "data": {
      "text/plain": [
       "67013"
      ]
     },
     "execution_count": 6,
     "metadata": {},
     "output_type": "execute_result"
    }
   ],
   "source": [
    "proportions = {\"alpaca\": 0.7, \"dolly\": 0.3, \"train\": 0.6, \"validation\": 0.4}\n",
    "total_size = len(alpaca) + len(dolly)\n",
    "total_size"
   ]
  },
  {
   "cell_type": "code",
   "execution_count": 7,
   "metadata": {},
   "outputs": [],
   "source": [
    "train_size = int(proportions[\"train\"] * total_size)\n",
    "validation_size = int(proportions[\"validation\"] * total_size)"
   ]
  },
  {
   "cell_type": "code",
   "execution_count": 10,
   "metadata": {},
   "outputs": [],
   "source": [
    "import numpy as np\n",
    "alpaca_train_indices = np.random.randint(0, len(alpaca), size=int(train_size * proportions[\"alpaca\"]))\n",
    "dolly_train_indices = np.random.randint(0, len(dolly), size=int(train_size * proportions[\"dolly\"]))                          \n",
    "extract_alpaca_train = alpaca.iloc[alpaca_train_indices]\n",
    "extract_dolly_train = dolly.iloc[dolly_train_indices]\n",
    "\n",
    "alpaca_remaining = alpaca.drop(index=alpaca_train_indices)\n",
    "dolly_remaining = dolly.drop(index=dolly_train_indices)"
   ]
  },
  {
   "cell_type": "code",
   "execution_count": 11,
   "metadata": {},
   "outputs": [],
   "source": [
    "alpaca_validation_indices = np.random.randint(0, len(alpaca_remaining), size=int(validation_size * proportions[\"alpaca\"]))\n",
    "dolly_validation_indices = np.random.randint(0, len(dolly_remaining), size=int(validation_size * proportions[\"dolly\"]))\n",
    "\n",
    "try:\n",
    "    extract_alpaca_validation = alpaca.iloc[alpaca_validation_indices]\n",
    "    extract_dolly_validation = dolly.iloc[dolly_validation_indices]\n",
    "except IndexError as e:\n",
    "    print(\"Pas assez long\")"
   ]
  },
  {
   "cell_type": "code",
   "execution_count": 12,
   "metadata": {},
   "outputs": [
    {
     "ename": "TypeError",
     "evalue": "concat() takes 1 positional argument but 2 positional arguments (and 1 keyword-only argument) were given",
     "output_type": "error",
     "traceback": [
      "\u001b[0;31m---------------------------------------------------------------------------\u001b[0m",
      "\u001b[0;31mTypeError\u001b[0m                                 Traceback (most recent call last)",
      "\u001b[1;32m/local1/benasach/Nomad_HPO_Llama-2_With_LoRa/generate_mixed_dataset.ipynb Cellule 6\u001b[0m line \u001b[0;36m1\n\u001b[0;32m----> <a href='vscode-notebook-cell://ssh-remote%2Batlas.gerad.lan/local1/benasach/Nomad_HPO_Llama-2_With_LoRa/generate_mixed_dataset.ipynb#W5sdnNjb2RlLXJlbW90ZQ%3D%3D?line=0'>1</a>\u001b[0m train \u001b[39m=\u001b[39m pd\u001b[39m.\u001b[39;49mconcat(extract_alpaca_train, extract_dolly_train, axis\u001b[39m=\u001b[39;49m\u001b[39m1\u001b[39;49m)\n\u001b[1;32m      <a href='vscode-notebook-cell://ssh-remote%2Batlas.gerad.lan/local1/benasach/Nomad_HPO_Llama-2_With_LoRa/generate_mixed_dataset.ipynb#W5sdnNjb2RlLXJlbW90ZQ%3D%3D?line=1'>2</a>\u001b[0m validation \u001b[39m=\u001b[39m pd\u001b[39m.\u001b[39mconcat(extract_alpaca_validation, extract_dolly_validation, axis\u001b[39m=\u001b[39m\u001b[39m1\u001b[39m)\n",
      "\u001b[0;31mTypeError\u001b[0m: concat() takes 1 positional argument but 2 positional arguments (and 1 keyword-only argument) were given"
     ]
    }
   ],
   "source": [
    "train = extract_alpaca_train.concat(extract_dolly_train, axis=1)\n",
    "validation = extract_alpaca_validation.concat(extract_dolly_validation, axis=1)"
   ]
  }
 ],
 "metadata": {
  "kernelspec": {
   "display_name": ".venv",
   "language": "python",
   "name": "python3"
  },
  "language_info": {
   "codemirror_mode": {
    "name": "ipython",
    "version": 3
   },
   "file_extension": ".py",
   "mimetype": "text/x-python",
   "name": "python",
   "nbconvert_exporter": "python",
   "pygments_lexer": "ipython3",
   "version": "3.11.4"
  },
  "orig_nbformat": 4
 },
 "nbformat": 4,
 "nbformat_minor": 2
}
